{
 "cells": [
  {
   "cell_type": "markdown",
   "id": "6b2f1e62",
   "metadata": {},
   "source": [
    "# An anatomical image"
   ]
  },
  {
   "cell_type": "code",
   "execution_count": 1,
   "id": "35d30418",
   "metadata": {
    "execution": {
     "iopub.execute_input": "2022-04-05T09:07:06.367873Z",
     "iopub.status.busy": "2022-04-05T09:07:06.367144Z",
     "iopub.status.idle": "2022-04-05T09:07:06.634070Z",
     "shell.execute_reply": "2022-04-05T09:07:06.634515Z"
    }
   },
   "outputs": [],
   "source": [
    "# Don't change this cell; just run it.\n",
    "import numpy as np  # The array library.\n",
    "import matplotlib.pyplot as plt  # the Python plotting package"
   ]
  },
  {
   "cell_type": "markdown",
   "id": "31c6a55a",
   "metadata": {},
   "source": [
    "This cell loads some machinery for testing your answers:"
   ]
  },
  {
   "cell_type": "code",
   "execution_count": 2,
   "id": "13ad6fc2",
   "metadata": {
    "execution": {
     "iopub.execute_input": "2022-04-05T09:07:06.638543Z",
     "iopub.status.busy": "2022-04-05T09:07:06.637949Z",
     "iopub.status.idle": "2022-04-05T09:07:06.697904Z",
     "shell.execute_reply": "2022-04-05T09:07:06.698402Z"
    }
   },
   "outputs": [],
   "source": [
    "import notetest"
   ]
  },
  {
   "cell_type": "markdown",
   "id": "c29138d9",
   "metadata": {},
   "source": [
    "Now we will work with a 3D brain image.\n",
    "\n",
    "Like the camera image in Cameraman problem, the pixel data for the 3D image is\n",
    "in a text file called `anatomical.txt`.   We fetch it using the Nipraxis library:"
   ]
  },
  {
   "cell_type": "code",
   "execution_count": 3,
   "id": "c2817490",
   "metadata": {
    "execution": {
     "iopub.execute_input": "2022-04-05T09:07:06.702576Z",
     "iopub.status.busy": "2022-04-05T09:07:06.701906Z",
     "iopub.status.idle": "2022-04-05T09:07:06.718216Z",
     "shell.execute_reply": "2022-04-05T09:07:06.717785Z"
    },
    "lines_to_next_cell": 2
   },
   "outputs": [],
   "source": [
    "import nipraxis\n",
    "anat_fname = nipraxis.fetch_file('anatomical.txt')\n",
    "# Show the file name\n",
    "anat_fname"
   ]
  },
  {
   "cell_type": "markdown",
   "id": "ea53cb8e",
   "metadata": {},
   "source": [
    "We happen to know this image has length 32 on the third dimension, but we\n",
    "don’t know what the size of the first two dimensions are.\n",
    "\n",
    "So, we know the image is of shape (`I`, `J`, 32), but we don’t know what `I`\n",
    "and `J` are.\n",
    "\n",
    "Here are the first four lines of `anatomical.txt`.\n",
    "\n",
    "```\n",
    "0.0000\n",
    "0.0000\n",
    "53.0000\n",
    "43.0000\n",
    "```\n",
    "\n",
    "The data is in the same floating point text format as the camera picture pixel\n",
    "data.\n",
    "\n",
    "Read all the lines of the file into a list of float values, as before."
   ]
  },
  {
   "cell_type": "code",
   "execution_count": 4,
   "id": "196d64f3",
   "metadata": {
    "execution": {
     "iopub.execute_input": "2022-04-05T09:07:06.791688Z",
     "iopub.status.busy": "2022-04-05T09:07:06.760868Z",
     "iopub.status.idle": "2022-04-05T09:07:07.033553Z",
     "shell.execute_reply": "2022-04-05T09:07:07.034247Z"
    }
   },
   "outputs": [],
   "source": [
    "# Run this cell.\n",
    "# Read file into list of float values\n",
    "pixel_values = []\n",
    "for line in open(anat_fname, 'r'):\n",
    "    pixel_values.append(float(line))\n",
    "# Show the first four values.\n",
    "pixel_values[:4]"
   ]
  },
  {
   "cell_type": "markdown",
   "id": "81c23124",
   "metadata": {},
   "source": [
    "For later convenience, we make the list into an array:"
   ]
  },
  {
   "cell_type": "code",
   "execution_count": 5,
   "id": "25b2864c",
   "metadata": {
    "execution": {
     "iopub.execute_input": "2022-04-05T09:07:07.088622Z",
     "iopub.status.busy": "2022-04-05T09:07:07.088024Z",
     "iopub.status.idle": "2022-04-05T09:07:07.090116Z",
     "shell.execute_reply": "2022-04-05T09:07:07.090536Z"
    }
   },
   "outputs": [],
   "source": [
    "# Run this cell.\n",
    "pixel_array = np.array(pixel_values)"
   ]
  },
  {
   "cell_type": "markdown",
   "id": "c44d96f4",
   "metadata": {},
   "source": [
    "How many pixel values does this file contain?"
   ]
  },
  {
   "cell_type": "code",
   "execution_count": 6,
   "id": "b1f56f53",
   "metadata": {
    "execution": {
     "iopub.execute_input": "2022-04-05T09:07:07.094355Z",
     "iopub.status.busy": "2022-04-05T09:07:07.093659Z",
     "iopub.status.idle": "2022-04-05T09:07:07.096236Z",
     "shell.execute_reply": "2022-04-05T09:07:07.096656Z"
    }
   },
   "outputs": [],
   "source": [
    "#- How many pixel values?\n",
    "n_pixels = len(pixel_array)\n",
    "# or = pixel_array.shape[0]\n",
    "# Show the number of pixels.\n",
    "n_pixels"
   ]
  },
  {
   "cell_type": "code",
   "execution_count": 7,
   "id": "c08da11b",
   "metadata": {
    "execution": {
     "iopub.execute_input": "2022-04-05T09:07:07.100198Z",
     "iopub.status.busy": "2022-04-05T09:07:07.099615Z",
     "iopub.status.idle": "2022-04-05T09:07:07.200438Z",
     "shell.execute_reply": "2022-04-05T09:07:07.200886Z"
    }
   },
   "outputs": [],
   "source": [
    "# Test your answer\n",
    "assert 'n_pixels' in dir()\n",
    "assert n_pixels is not ...\n",
    "assert n_pixels == notetest.get_n_pixels()"
   ]
  },
  {
   "cell_type": "markdown",
   "id": "396b3356",
   "metadata": {},
   "source": [
    "When I have my image array correctly shaped, then, if I take a slice over the\n",
    "third dimension:\n",
    "\n",
    "```\n",
    "slice_on_third = image_array[:, :, 0]\n",
    "```\n",
    "\n",
    "`slice_on_third` will be shape `(I, J)` (the size of the first two\n",
    "dimensions).\n",
    "\n",
    "How many pixel values does a slice in the third dimension contain - given that\n",
    "we know the third dimension is length 32? Put another way, what is the value\n",
    "for `I * J`?"
   ]
  },
  {
   "cell_type": "code",
   "execution_count": 8,
   "id": "d4c626e3",
   "metadata": {
    "execution": {
     "iopub.execute_input": "2022-04-05T09:07:07.204872Z",
     "iopub.status.busy": "2022-04-05T09:07:07.204234Z",
     "iopub.status.idle": "2022-04-05T09:07:07.206614Z",
     "shell.execute_reply": "2022-04-05T09:07:07.207087Z"
    }
   },
   "outputs": [],
   "source": [
    "#- Find the size of a slice over the third dimension\n",
    "P = len(pixel_array) / 32\n",
    "# Show the number of pixels in a slice.\n",
    "P"
   ]
  },
  {
   "cell_type": "code",
   "execution_count": 9,
   "id": "fef004ac",
   "metadata": {
    "execution": {
     "iopub.execute_input": "2022-04-05T09:07:07.210740Z",
     "iopub.status.busy": "2022-04-05T09:07:07.210092Z",
     "iopub.status.idle": "2022-04-05T09:07:07.211880Z",
     "shell.execute_reply": "2022-04-05T09:07:07.212297Z"
    }
   },
   "outputs": [],
   "source": [
    "# Test your answer\n",
    "assert 'P' in dir()\n",
    "assert P is not ...\n",
    "assert P == notetest.get_n_pixels_slice()"
   ]
  },
  {
   "cell_type": "markdown",
   "id": "2f0afd32",
   "metadata": {},
   "source": [
    "Call `P` the number of values per slice on the third dimension.\n",
    "\n",
    "Therefore, `P == I * J` where we don’t yet know `I` or `J`.\n",
    "\n",
    "We need to find the values for `I` and `J`.\n",
    "\n",
    "Find all possible candidates for `I` by using the modulus operator (`%`) to\n",
    "find a few numbers between 120 and 200 that divide exactly into the slice size\n",
    "`P`.\n",
    "\n",
    "**Hint**: the first value will be 120, because:"
   ]
  },
  {
   "cell_type": "code",
   "execution_count": 10,
   "id": "2b591e76",
   "metadata": {
    "execution": {
     "iopub.execute_input": "2022-04-05T09:07:07.215898Z",
     "iopub.status.busy": "2022-04-05T09:07:07.215263Z",
     "iopub.status.idle": "2022-04-05T09:07:07.217804Z",
     "shell.execute_reply": "2022-04-05T09:07:07.218227Z"
    }
   },
   "outputs": [],
   "source": [
    "P % 120"
   ]
  },
  {
   "cell_type": "code",
   "execution_count": 11,
   "id": "0b76af85",
   "metadata": {
    "execution": {
     "iopub.execute_input": "2022-04-05T09:07:07.222923Z",
     "iopub.status.busy": "2022-04-05T09:07:07.222262Z",
     "iopub.status.idle": "2022-04-05T09:07:07.224599Z",
     "shell.execute_reply": "2022-04-05T09:07:07.225143Z"
    }
   },
   "outputs": [],
   "source": [
    "#- Find candidates for I\n",
    "candidates = []\n",
    "for i in range(120, 201):\n",
    "    if P % i == 0:\n",
    "        candidates.append(i)\n",
    "# Show the candidates.\n",
    "candidates"
   ]
  },
  {
   "cell_type": "code",
   "execution_count": 12,
   "id": "6f7bc412",
   "metadata": {
    "execution": {
     "iopub.execute_input": "2022-04-05T09:07:07.229034Z",
     "iopub.status.busy": "2022-04-05T09:07:07.228435Z",
     "iopub.status.idle": "2022-04-05T09:07:07.230235Z",
     "shell.execute_reply": "2022-04-05T09:07:07.230649Z"
    }
   },
   "outputs": [],
   "source": [
    "# Test your answers.\n",
    "assert len(candidates) == 6\n",
    "assert candidates[0] == 120\n",
    "assert candidates[-1] == 195\n",
    "assert list(candidates) == notetest.get_candidates()"
   ]
  },
  {
   "cell_type": "markdown",
   "id": "2e8610d7",
   "metadata": {},
   "source": [
    "These numbers are candidates for `I` - the first number in the pair `(I,\n",
    "J)`. We now need to find the corresponding `J` for each candidate for\n",
    "`I`.\n",
    "\n",
    "Use the integer division operator (`//`) to get a list of pairs of numbers\n",
    "`I` and `J` such that `I * J == P`. Hint: the first pair of `I, J` is\n",
    "`[120, 221]`."
   ]
  },
  {
   "cell_type": "code",
   "execution_count": 13,
   "id": "fd5d78f3",
   "metadata": {
    "execution": {
     "iopub.execute_input": "2022-04-05T09:07:07.235125Z",
     "iopub.status.busy": "2022-04-05T09:07:07.234461Z",
     "iopub.status.idle": "2022-04-05T09:07:07.237122Z",
     "shell.execute_reply": "2022-04-05T09:07:07.237598Z"
    }
   },
   "outputs": [],
   "source": [
    "#- Find candidate pairs for I, J\n",
    "pairs = []\n",
    "for candidate in candidates:\n",
    "    pair = [candidate, P // candidate]\n",
    "    pairs.append(pair)\n",
    "# Show the pairs.\n",
    "pairs"
   ]
  },
  {
   "cell_type": "code",
   "execution_count": 14,
   "id": "a828f4bd",
   "metadata": {
    "execution": {
     "iopub.execute_input": "2022-04-05T09:07:07.241408Z",
     "iopub.status.busy": "2022-04-05T09:07:07.240827Z",
     "iopub.status.idle": "2022-04-05T09:07:07.242623Z",
     "shell.execute_reply": "2022-04-05T09:07:07.243054Z"
    },
    "lines_to_next_cell": 2
   },
   "outputs": [],
   "source": [
    "assert len(pairs) == 6\n",
    "assert list(pairs[0]) == [120, 221]\n",
    "assert np.all(np.array(pairs) == notetest.get_pairs())"
   ]
  },
  {
   "cell_type": "markdown",
   "id": "b9bf78a1",
   "metadata": {},
   "source": [
    "The full image shape will be three values, with one of these `[I, J]` pairs\n",
    "followed by 32. For example, the correct shape might be `[120, 221, 32]` (it\n",
    "isn't!). Try reshaping the pixel data with a few of the `[I, J, 32]`\n",
    "candidates to see which one is likely to be right. \n",
    "\n",
    "In the call below, you are plotting a slice over the third dimension to see\n",
    "how it looks."
   ]
  },
  {
   "cell_type": "code",
   "execution_count": 15,
   "id": "63c2111a",
   "metadata": {
    "execution": {
     "iopub.execute_input": "2022-04-05T09:07:07.277028Z",
     "iopub.status.busy": "2022-04-05T09:07:07.276415Z",
     "iopub.status.idle": "2022-04-05T09:07:07.435691Z",
     "shell.execute_reply": "2022-04-05T09:07:07.436157Z"
    }
   },
   "outputs": [],
   "source": [
    "# Try reshaping using some candidate pairs.\n",
    "# Change the first two values of the shape below.\n",
    "full_shape = [120, 221, 32]\n",
    "# The rest of cell, you may want to leave as is.\n",
    "to_try = np.reshape(pixel_array, full_shape)\n",
    "# Plot a middle slice in the third dimension\n",
    "plt.imshow(to_try[:, :, 15])"
   ]
  },
  {
   "cell_type": "code",
   "execution_count": 16,
   "id": "a3d4ecc8",
   "metadata": {
    "execution": {
     "iopub.execute_input": "2022-04-05T09:07:07.440093Z",
     "iopub.status.busy": "2022-04-05T09:07:07.439433Z",
     "iopub.status.idle": "2022-04-05T09:07:07.442131Z",
     "shell.execute_reply": "2022-04-05T09:07:07.442604Z"
    }
   },
   "outputs": [],
   "source": [
    "full_shape = [170, 156, 32]\n",
    "# Show the final shape that you are happy with.\n",
    "full_shape"
   ]
  },
  {
   "cell_type": "code",
   "execution_count": 17,
   "id": "57a50cff",
   "metadata": {
    "execution": {
     "iopub.execute_input": "2022-04-05T09:07:07.446054Z",
     "iopub.status.busy": "2022-04-05T09:07:07.445427Z",
     "iopub.status.idle": "2022-04-05T09:07:07.447262Z",
     "shell.execute_reply": "2022-04-05T09:07:07.447677Z"
    }
   },
   "outputs": [],
   "source": [
    "assert list(full_shape) == notetest.get_full_shape()"
   ]
  },
  {
   "cell_type": "markdown",
   "id": "09e52ad8",
   "metadata": {},
   "source": [
    "## Done.\n",
    "\n",
    "Congratulations, you're done with the assignment!\n",
    "\n",
    "- **run all the tests** by choosing Restart and Run all from the Kernel menu.\n",
    "- **Save and Checkpoint** from the `File` menu."
   ]
  }
 ],
 "metadata": {
  "jupytext": {
   "notebook_metadata_filter": "all,-language_info",
   "split_at_heading": true,
   "text_representation": {
    "extension": ".Rmd",
    "format_name": "rmarkdown",
    "format_version": "1.2",
    "jupytext_version": "1.13.7"
   }
  },
  "kernelspec": {
   "display_name": "Python 3",
   "language": "python",
   "name": "python3"
  },
  "language_info": {
   "codemirror_mode": {
    "name": "ipython",
    "version": 3
   },
   "file_extension": ".py",
   "mimetype": "text/x-python",
   "name": "python",
   "nbconvert_exporter": "python",
   "pygments_lexer": "ipython3",
   "version": "3.8.13"
  }
 },
 "nbformat": 4,
 "nbformat_minor": 5
}
