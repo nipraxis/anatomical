{
 "cells": [
  {
   "cell_type": "markdown",
   "id": "24001c90",
   "metadata": {},
   "source": [
    "# An anatomical image"
   ]
  },
  {
   "cell_type": "code",
   "execution_count": 1,
   "id": "c60cb016",
   "metadata": {
    "execution": {
     "iopub.execute_input": "2022-04-07T08:32:37.696156Z",
     "iopub.status.busy": "2022-04-07T08:32:37.695335Z",
     "iopub.status.idle": "2022-04-07T08:32:38.007794Z",
     "shell.execute_reply": "2022-04-07T08:32:38.008295Z"
    }
   },
   "outputs": [],
   "source": [
    "# Don't change this cell; just run it.\n",
    "import numpy as np  # The array library.\n",
    "import matplotlib.pyplot as plt  # the Python plotting package"
   ]
  },
  {
   "cell_type": "markdown",
   "id": "75a22c25",
   "metadata": {},
   "source": [
    "This cell loads some machinery for testing your answers:"
   ]
  },
  {
   "cell_type": "code",
   "execution_count": 2,
   "id": "d259e14e",
   "metadata": {
    "execution": {
     "iopub.execute_input": "2022-04-07T08:32:38.012803Z",
     "iopub.status.busy": "2022-04-07T08:32:38.012064Z",
     "iopub.status.idle": "2022-04-07T08:32:38.106084Z",
     "shell.execute_reply": "2022-04-07T08:32:38.106548Z"
    }
   },
   "outputs": [],
   "source": [
    "import notetest"
   ]
  },
  {
   "cell_type": "markdown",
   "id": "5bb0905b",
   "metadata": {},
   "source": [
    "Now we will work with a 3D brain image.\n",
    "\n",
    "Like the camera image in Cameraman problem, the pixel data for the 3D image is\n",
    "in a text file called `anatomical.txt`.   We fetch it using the Nipraxis library:"
   ]
  },
  {
   "cell_type": "code",
   "execution_count": 3,
   "id": "9a562250",
   "metadata": {
    "execution": {
     "iopub.execute_input": "2022-04-07T08:32:38.110700Z",
     "iopub.status.busy": "2022-04-07T08:32:38.110084Z",
     "iopub.status.idle": "2022-04-07T08:32:38.128968Z",
     "shell.execute_reply": "2022-04-07T08:32:38.129705Z"
    },
    "lines_to_next_cell": 2
   },
   "outputs": [],
   "source": [
    "import nipraxis\n",
    "anat_fname = nipraxis.fetch_file('anatomical.txt')\n",
    "# Show the file name\n",
    "anat_fname"
   ]
  },
  {
   "cell_type": "markdown",
   "id": "34740fe5",
   "metadata": {},
   "source": [
    "We happen to know this image has length 32 on the third dimension, but we\n",
    "don’t know what the size of the first two dimensions are.\n",
    "\n",
    "So, we know the image is of shape (`I`, `J`, 32), but we don’t know what `I`\n",
    "and `J` are.\n",
    "\n",
    "Here are the first four lines of `anatomical.txt`.\n",
    "\n",
    "```\n",
    "0.0000\n",
    "0.0000\n",
    "53.0000\n",
    "43.0000\n",
    "```\n",
    "\n",
    "The data is in the same floating point text format as the camera picture pixel\n",
    "data.\n",
    "\n",
    "Read all the lines of the file into a list of float values, as before."
   ]
  },
  {
   "cell_type": "code",
   "execution_count": 4,
   "id": "8586d2e7",
   "metadata": {
    "execution": {
     "iopub.execute_input": "2022-04-07T08:32:38.134525Z",
     "iopub.status.busy": "2022-04-07T08:32:38.133845Z",
     "iopub.status.idle": "2022-04-07T08:32:38.464093Z",
     "shell.execute_reply": "2022-04-07T08:32:38.463561Z"
    }
   },
   "outputs": [],
   "source": [
    "# Run this cell.\n",
    "# Read all the lines of the file into a list.\n",
    "lines = open(anat_fname, 'rt').readlines()\n",
    "# Convert to float values.\n",
    "pixel_values = []\n",
    "for line in lines:\n",
    "    pixel_values.append(float(line))\n",
    "# Show the first 15 values.\n",
    "pixel_values[:15]"
   ]
  },
  {
   "cell_type": "markdown",
   "id": "8febc737",
   "metadata": {},
   "source": [
    "For later convenience, we make the list into an array:"
   ]
  },
  {
   "cell_type": "code",
   "execution_count": 5,
   "id": "a5ee84ae",
   "metadata": {
    "execution": {
     "iopub.execute_input": "2022-04-07T08:32:38.519939Z",
     "iopub.status.busy": "2022-04-07T08:32:38.519150Z",
     "iopub.status.idle": "2022-04-07T08:32:38.523120Z",
     "shell.execute_reply": "2022-04-07T08:32:38.523628Z"
    }
   },
   "outputs": [],
   "source": [
    "# Run this cell.\n",
    "pixel_array = np.array(pixel_values)\n",
    "# Show the first 15 values.\n",
    "pixel_array[:15]"
   ]
  },
  {
   "cell_type": "markdown",
   "id": "892d2c10",
   "metadata": {},
   "source": [
    "And in fact, here we will show you a short-cut for these kinds of simple text files.  You can use a function called `np.loadtxt` to load them directly as a Numpy array:"
   ]
  },
  {
   "cell_type": "code",
   "execution_count": 6,
   "id": "419401c4",
   "metadata": {
    "execution": {
     "iopub.execute_input": "2022-04-07T08:32:38.529292Z",
     "iopub.status.busy": "2022-04-07T08:32:38.527576Z",
     "iopub.status.idle": "2022-04-07T08:32:39.944861Z",
     "shell.execute_reply": "2022-04-07T08:32:39.945382Z"
    }
   },
   "outputs": [],
   "source": [
    "# Run this cell.\n",
    "pixel_array = np.loadtxt(anat_fname)\n",
    "# Show the first 15 values.\n",
    "pixel_array[:15]"
   ]
  },
  {
   "cell_type": "markdown",
   "id": "13440ccf",
   "metadata": {},
   "source": [
    "How many pixel values does this file contain?"
   ]
  },
  {
   "cell_type": "code",
   "execution_count": 7,
   "id": "561d0e74",
   "metadata": {
    "execution": {
     "iopub.execute_input": "2022-04-07T08:32:39.949546Z",
     "iopub.status.busy": "2022-04-07T08:32:39.948808Z",
     "iopub.status.idle": "2022-04-07T08:32:39.952229Z",
     "shell.execute_reply": "2022-04-07T08:32:39.952793Z"
    }
   },
   "outputs": [],
   "source": [
    "#- How many pixel values?\n",
    "n_pixels = len(pixel_array)\n",
    "# or\n",
    "# n_pixels = pixel_array.shape[0]\n",
    "# Show the number of pixels.\n",
    "n_pixels"
   ]
  },
  {
   "cell_type": "code",
   "execution_count": 8,
   "id": "0da4b546",
   "metadata": {
    "execution": {
     "iopub.execute_input": "2022-04-07T08:32:39.957484Z",
     "iopub.status.busy": "2022-04-07T08:32:39.956796Z",
     "iopub.status.idle": "2022-04-07T08:32:40.060950Z",
     "shell.execute_reply": "2022-04-07T08:32:40.061430Z"
    }
   },
   "outputs": [],
   "source": [
    "# Test your answer\n",
    "assert 'n_pixels' in dir()\n",
    "assert n_pixels is not ...\n",
    "assert n_pixels == notetest.get_n_pixels()"
   ]
  },
  {
   "cell_type": "markdown",
   "id": "7f768aad",
   "metadata": {},
   "source": [
    "When I have my image array correctly shaped, then, if I take a slice over the\n",
    "third dimension:\n",
    "\n",
    "```\n",
    "slice_on_third = image_array[:, :, 0]\n",
    "```\n",
    "\n",
    "`slice_on_third` will be shape `(I, J)` (the size of the first two\n",
    "dimensions).\n",
    "\n",
    "How many pixel values does a slice in the third dimension contain - given that\n",
    "we know the third dimension is length 32? Put another way, what is the value\n",
    "for `I * J`?"
   ]
  },
  {
   "cell_type": "code",
   "execution_count": 9,
   "id": "9f50d1f5",
   "metadata": {
    "execution": {
     "iopub.execute_input": "2022-04-07T08:32:40.066058Z",
     "iopub.status.busy": "2022-04-07T08:32:40.065375Z",
     "iopub.status.idle": "2022-04-07T08:32:40.067841Z",
     "shell.execute_reply": "2022-04-07T08:32:40.068271Z"
    }
   },
   "outputs": [],
   "source": [
    "#- Find the size of a slice over the third dimension\n",
    "P = len(pixel_array) / 32\n",
    "# Show the number of pixels in a slice.\n",
    "P"
   ]
  },
  {
   "cell_type": "code",
   "execution_count": 10,
   "id": "27f2995a",
   "metadata": {
    "execution": {
     "iopub.execute_input": "2022-04-07T08:32:40.073076Z",
     "iopub.status.busy": "2022-04-07T08:32:40.072472Z",
     "iopub.status.idle": "2022-04-07T08:32:40.074517Z",
     "shell.execute_reply": "2022-04-07T08:32:40.074946Z"
    }
   },
   "outputs": [],
   "source": [
    "# Test your answer\n",
    "assert 'P' in dir()\n",
    "assert P is not ...\n",
    "assert P == notetest.get_n_pixels_slice()"
   ]
  },
  {
   "cell_type": "markdown",
   "id": "a6fce0f8",
   "metadata": {},
   "source": [
    "Call `P` the number of values per slice on the third dimension.\n",
    "\n",
    "Therefore, `P == I * J` where we don’t yet know `I` or `J`.\n",
    "\n",
    "We need to find the values for `I` and `J`.\n",
    "\n",
    "Find all possible candidates for `I` by using the modulus operator (`%`) to\n",
    "find a few numbers between 120 and 200 that divide exactly into the slice size\n",
    "`P`.\n",
    "\n",
    "**Hint**: you may consider using `range` or `np.arange`.\n",
    "\n",
    "**Hint**: the first value will be 120, because:"
   ]
  },
  {
   "cell_type": "code",
   "execution_count": 11,
   "id": "8dc23fc3",
   "metadata": {
    "execution": {
     "iopub.execute_input": "2022-04-07T08:32:40.079061Z",
     "iopub.status.busy": "2022-04-07T08:32:40.078456Z",
     "iopub.status.idle": "2022-04-07T08:32:40.081096Z",
     "shell.execute_reply": "2022-04-07T08:32:40.081590Z"
    }
   },
   "outputs": [],
   "source": [
    "P % 120"
   ]
  },
  {
   "cell_type": "code",
   "execution_count": 12,
   "id": "1a8d5f28",
   "metadata": {
    "execution": {
     "iopub.execute_input": "2022-04-07T08:32:40.087405Z",
     "iopub.status.busy": "2022-04-07T08:32:40.086451Z",
     "iopub.status.idle": "2022-04-07T08:32:40.089642Z",
     "shell.execute_reply": "2022-04-07T08:32:40.090070Z"
    }
   },
   "outputs": [],
   "source": [
    "#- Find candidates for I\n",
    "candidates = []\n",
    "for i in range(120, 201):\n",
    "    if P % i == 0:\n",
    "        candidates.append(i)\n",
    "# Show the candidates.\n",
    "candidates"
   ]
  },
  {
   "cell_type": "code",
   "execution_count": 13,
   "id": "3aedbd8f",
   "metadata": {
    "execution": {
     "iopub.execute_input": "2022-04-07T08:32:40.094316Z",
     "iopub.status.busy": "2022-04-07T08:32:40.093694Z",
     "iopub.status.idle": "2022-04-07T08:32:40.095602Z",
     "shell.execute_reply": "2022-04-07T08:32:40.096068Z"
    }
   },
   "outputs": [],
   "source": [
    "# Test your answers.\n",
    "assert len(candidates) == 6\n",
    "assert candidates[0] == 120\n",
    "assert candidates[-1] == 195\n",
    "assert list(candidates) == notetest.get_candidates()"
   ]
  },
  {
   "cell_type": "markdown",
   "id": "103f40a2",
   "metadata": {},
   "source": [
    "These numbers are candidates for `I` - the first number in the pair `(I,\n",
    "J)`. We now need to find the corresponding `J` for each candidate for\n",
    "`I`.\n",
    "\n",
    "Use the integer division operator (`//`) to get a list of pairs of numbers\n",
    "`I` and `J` such that `I * J == P`. Hint: the first pair of `I, J` is\n",
    "`[120, 221]`."
   ]
  },
  {
   "cell_type": "code",
   "execution_count": 14,
   "id": "edc7324e",
   "metadata": {
    "execution": {
     "iopub.execute_input": "2022-04-07T08:32:40.101162Z",
     "iopub.status.busy": "2022-04-07T08:32:40.100451Z",
     "iopub.status.idle": "2022-04-07T08:32:40.104324Z",
     "shell.execute_reply": "2022-04-07T08:32:40.104897Z"
    }
   },
   "outputs": [],
   "source": [
    "#- Find candidate pairs for I, J\n",
    "pairs = []\n",
    "for candidate in candidates:\n",
    "    pair = [candidate, P // candidate]\n",
    "    pairs.append(pair)\n",
    "# Show the pairs.\n",
    "pairs"
   ]
  },
  {
   "cell_type": "code",
   "execution_count": 15,
   "id": "d158bbc3",
   "metadata": {
    "execution": {
     "iopub.execute_input": "2022-04-07T08:32:40.109493Z",
     "iopub.status.busy": "2022-04-07T08:32:40.108815Z",
     "iopub.status.idle": "2022-04-07T08:32:40.110763Z",
     "shell.execute_reply": "2022-04-07T08:32:40.111197Z"
    },
    "lines_to_next_cell": 2
   },
   "outputs": [],
   "source": [
    "assert len(pairs) == 6\n",
    "assert list(pairs[0]) == [120, 221]\n",
    "assert np.all(np.array(pairs) == notetest.get_pairs())"
   ]
  },
  {
   "cell_type": "markdown",
   "id": "a7787983",
   "metadata": {},
   "source": [
    "The full image shape will be three values, with one of these `[I, J]` pairs\n",
    "followed by 32. For example, the correct shape might be `[120, 221, 32]` (it\n",
    "isn't!). Try reshaping the pixel data with a few of the `[I, J, 32]`\n",
    "candidates to see which one is likely to be right. \n",
    "\n",
    "In the call below, you are plotting a slice over the third dimension to see\n",
    "how it looks."
   ]
  },
  {
   "cell_type": "code",
   "execution_count": 16,
   "id": "90f6ea04",
   "metadata": {
    "execution": {
     "iopub.execute_input": "2022-04-07T08:32:40.156093Z",
     "iopub.status.busy": "2022-04-07T08:32:40.155463Z",
     "iopub.status.idle": "2022-04-07T08:32:40.346310Z",
     "shell.execute_reply": "2022-04-07T08:32:40.346744Z"
    }
   },
   "outputs": [],
   "source": [
    "# Try reshaping using some candidate pairs.\n",
    "# Change the first two values of the shape below.\n",
    "full_shape = [120, 221, 32]\n",
    "# The rest of cell, you may want to leave as is.\n",
    "to_try = np.reshape(pixel_array, full_shape)\n",
    "# Plot a middle slice in the third dimension\n",
    "plt.imshow(to_try[:, :, 15])"
   ]
  },
  {
   "cell_type": "code",
   "execution_count": 17,
   "id": "71b17b98",
   "metadata": {
    "execution": {
     "iopub.execute_input": "2022-04-07T08:32:40.351518Z",
     "iopub.status.busy": "2022-04-07T08:32:40.350670Z",
     "iopub.status.idle": "2022-04-07T08:32:40.354047Z",
     "shell.execute_reply": "2022-04-07T08:32:40.354525Z"
    }
   },
   "outputs": [],
   "source": [
    "full_shape = [170, 156, 32]\n",
    "# Show the final shape that you are happy with.\n",
    "full_shape"
   ]
  },
  {
   "cell_type": "code",
   "execution_count": 18,
   "id": "e2c23f6f",
   "metadata": {
    "execution": {
     "iopub.execute_input": "2022-04-07T08:32:40.358774Z",
     "iopub.status.busy": "2022-04-07T08:32:40.358122Z",
     "iopub.status.idle": "2022-04-07T08:32:40.360108Z",
     "shell.execute_reply": "2022-04-07T08:32:40.360532Z"
    }
   },
   "outputs": [],
   "source": [
    "assert list(full_shape) == notetest.get_full_shape()"
   ]
  },
  {
   "cell_type": "markdown",
   "id": "6e0f6cfe",
   "metadata": {},
   "source": [
    "## Done.\n",
    "\n",
    "Congratulations, you're done with the assignment!\n",
    "\n",
    "- **run all the tests** by choosing Restart and Run all from the Kernel menu.\n",
    "- **Save and Checkpoint** from the `File` menu, to save your work, in case you\n",
    "  want to come back to it later."
   ]
  }
 ],
 "metadata": {
  "jupytext": {
   "notebook_metadata_filter": "all,-language_info",
   "split_at_heading": true,
   "text_representation": {
    "extension": ".Rmd",
    "format_name": "rmarkdown",
    "format_version": "1.2",
    "jupytext_version": "1.13.7"
   }
  },
  "kernelspec": {
   "display_name": "Python 3",
   "language": "python",
   "name": "python3"
  },
  "language_info": {
   "codemirror_mode": {
    "name": "ipython",
    "version": 3
   },
   "file_extension": ".py",
   "mimetype": "text/x-python",
   "name": "python",
   "nbconvert_exporter": "python",
   "pygments_lexer": "ipython3",
   "version": "3.8.13"
  }
 },
 "nbformat": 4,
 "nbformat_minor": 5
}
