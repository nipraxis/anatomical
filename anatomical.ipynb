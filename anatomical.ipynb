{
 "cells": [
  {
   "cell_type": "markdown",
   "id": "7e269449",
   "metadata": {},
   "source": [
    "# An anatomical image"
   ]
  },
  {
   "cell_type": "code",
   "execution_count": null,
   "id": "746d076c",
   "metadata": {},
   "outputs": [],
   "source": [
    "# Don't change this cell; just run it.\n",
    "import numpy as np  # The array library.\n",
    "import matplotlib.pyplot as plt  # the Python plotting package"
   ]
  },
  {
   "cell_type": "markdown",
   "id": "916cd6aa",
   "metadata": {},
   "source": [
    "This cell loads some machinery for testing your answers:"
   ]
  },
  {
   "cell_type": "code",
   "execution_count": null,
   "id": "86897bd9",
   "metadata": {},
   "outputs": [],
   "source": [
    "import notetest"
   ]
  },
  {
   "cell_type": "markdown",
   "id": "e509ff11",
   "metadata": {},
   "source": [
    "Now we will work with a 3D brain image.\n",
    "\n",
    "Like the camera image in Cameraman problem, the pixel data for the 3D image is\n",
    "in a text file called `anatomical.txt`.   We fetch it using the Nipraxis library:"
   ]
  },
  {
   "cell_type": "code",
   "execution_count": null,
   "id": "7a174d3f",
   "metadata": {
    "lines_to_next_cell": 2
   },
   "outputs": [],
   "source": [
    "import nipraxis\n",
    "anat_fname = nipraxis.fetch_file('anatomical.txt')\n",
    "# Show the file name\n",
    "anat_fname"
   ]
  },
  {
   "cell_type": "markdown",
   "id": "ab55586f",
   "metadata": {},
   "source": [
    "We happen to know this image has length 32 on the third dimension, but we\n",
    "don’t know what the size of the first two dimensions are.\n",
    "\n",
    "So, we know the image is of shape (`I`, `J`, 32), but we don’t know what `I`\n",
    "and `J` are.\n",
    "\n",
    "Here are the first four lines of `anatomical.txt`.\n",
    "\n",
    "```\n",
    "0.0000\n",
    "0.0000\n",
    "53.0000\n",
    "43.0000\n",
    "```\n",
    "\n",
    "The data is in the same floating point text format as the camera picture pixel\n",
    "data.\n",
    "\n",
    "Read all the lines of the file into a list of float values, as before."
   ]
  },
  {
   "cell_type": "code",
   "execution_count": null,
   "id": "69547f3a",
   "metadata": {},
   "outputs": [],
   "source": [
    "# Run this cell.\n",
    "# Read all the lines of the file into a list.\n",
    "lines = open(anat_fname, 'rt').readlines()\n",
    "# Convert to float values.\n",
    "pixel_values = []\n",
    "for line in lines:\n",
    "    pixel_values.append(float(line))\n",
    "# Show the first 15 values.\n",
    "pixel_values[:15]"
   ]
  },
  {
   "cell_type": "markdown",
   "id": "31c9cd3a",
   "metadata": {},
   "source": [
    "For later convenience, we make the list into an array:"
   ]
  },
  {
   "cell_type": "code",
   "execution_count": null,
   "id": "abc76ca8",
   "metadata": {},
   "outputs": [],
   "source": [
    "# Run this cell.\n",
    "pixel_array = np.array(pixel_values)\n",
    "# Show the first 15 values.\n",
    "pixel_array[:15]"
   ]
  },
  {
   "cell_type": "markdown",
   "id": "b35a778a",
   "metadata": {},
   "source": [
    "And in fact, here we will show you a short-cut for these kinds of simple text files.  You can use a function called `np.loadtxt` to load them directly as a Numpy array:"
   ]
  },
  {
   "cell_type": "code",
   "execution_count": null,
   "id": "77b76592",
   "metadata": {},
   "outputs": [],
   "source": [
    "# Run this cell.\n",
    "pixel_array = np.loadtxt(anat_fname)\n",
    "# Show the first 15 values.\n",
    "pixel_array[:15]"
   ]
  },
  {
   "cell_type": "markdown",
   "id": "31288bba",
   "metadata": {},
   "source": [
    "How many pixel values does this file contain?"
   ]
  },
  {
   "cell_type": "code",
   "execution_count": null,
   "id": "53d47efd",
   "metadata": {},
   "outputs": [],
   "source": [
    "#- How many pixel values?\n",
    "n_pixels = ...\n",
    "# Show the number of pixels.\n",
    "n_pixels"
   ]
  },
  {
   "cell_type": "code",
   "execution_count": null,
   "id": "9632d1de",
   "metadata": {},
   "outputs": [],
   "source": [
    "# Test your answer\n",
    "assert 'n_pixels' in dir()\n",
    "assert n_pixels is not ...\n",
    "assert n_pixels == notetest.get_n_pixels()"
   ]
  },
  {
   "cell_type": "markdown",
   "id": "4307e4e4",
   "metadata": {},
   "source": [
    "When I have my image array correctly shaped, then, if I take a slice over the\n",
    "third dimension:\n",
    "\n",
    "```\n",
    "slice_on_third = image_array[:, :, 0]\n",
    "```\n",
    "\n",
    "`slice_on_third` will be shape `(I, J)` (the size of the first two\n",
    "dimensions).\n",
    "\n",
    "How many pixel values does a slice in the third dimension contain - given that\n",
    "we know the third dimension is length 32? Put another way, what is the value\n",
    "for `I * J`?"
   ]
  },
  {
   "cell_type": "code",
   "execution_count": null,
   "id": "044e2935",
   "metadata": {},
   "outputs": [],
   "source": [
    "#- Find the size of a slice over the third dimension\n",
    "P = ...\n",
    "# Show the number of pixels in a slice.\n",
    "P"
   ]
  },
  {
   "cell_type": "code",
   "execution_count": null,
   "id": "ec195b46",
   "metadata": {},
   "outputs": [],
   "source": [
    "# Test your answer\n",
    "assert 'P' in dir()\n",
    "assert P is not ...\n",
    "assert P == notetest.get_n_pixels_slice()"
   ]
  },
  {
   "cell_type": "markdown",
   "id": "5d364d05",
   "metadata": {},
   "source": [
    "Call `P` the number of values per slice on the third dimension.\n",
    "\n",
    "Therefore, `P == I * J` where we don’t yet know `I` or `J`.\n",
    "\n",
    "We need to find the values for `I` and `J`.\n",
    "\n",
    "Find all possible candidates for `I` by using the modulus operator (`%`) to\n",
    "find a few numbers between 120 and 200 that divide exactly into the slice size\n",
    "`P`.\n",
    "\n",
    "**Hint**: you may consider using `range` or `np.arange`.\n",
    "\n",
    "**Hint**: the first value will be 120, because:"
   ]
  },
  {
   "cell_type": "code",
   "execution_count": null,
   "id": "507e1f58",
   "metadata": {},
   "outputs": [],
   "source": [
    "P % 120"
   ]
  },
  {
   "cell_type": "code",
   "execution_count": null,
   "id": "86e7c6af",
   "metadata": {},
   "outputs": [],
   "source": [
    "#- Find candidates for I\n",
    "candidates = []\n",
    "for i in range(120, 201):\n",
    "    ...\n",
    "# Show the candidates.\n",
    "candidates"
   ]
  },
  {
   "cell_type": "code",
   "execution_count": null,
   "id": "cc1756db",
   "metadata": {},
   "outputs": [],
   "source": [
    "# Test your answers.\n",
    "assert len(candidates) == 6\n",
    "assert candidates[0] == 120\n",
    "assert candidates[-1] == 195\n",
    "assert list(candidates) == notetest.get_candidates()"
   ]
  },
  {
   "cell_type": "markdown",
   "id": "62e22c68",
   "metadata": {},
   "source": [
    "These numbers are candidates for `I` - the first number in the pair `(I,\n",
    "J)`. We now need to find the corresponding `J` for each candidate for\n",
    "`I`.\n",
    "\n",
    "Use the integer division operator (`//`) to get a list of pairs of numbers\n",
    "`I` and `J` such that `I * J == P`. Hint: the first pair of `I, J` is\n",
    "`[120, 221]`."
   ]
  },
  {
   "cell_type": "code",
   "execution_count": null,
   "id": "39b43808",
   "metadata": {},
   "outputs": [],
   "source": [
    "#- Find candidate pairs for I, J\n",
    "pairs = []\n",
    "...\n",
    "..."
   ]
  },
  {
   "cell_type": "code",
   "execution_count": null,
   "id": "f84c7fa6",
   "metadata": {
    "lines_to_next_cell": 2
   },
   "outputs": [],
   "source": [
    "assert len(pairs) == 6\n",
    "assert list(pairs[0]) == [120, 221]\n",
    "assert np.all(np.array(pairs) == notetest.get_pairs())"
   ]
  },
  {
   "cell_type": "markdown",
   "id": "c2270bb9",
   "metadata": {},
   "source": [
    "The full image shape will be three values, with one of these `[I, J]` pairs\n",
    "followed by 32. For example, the correct shape might be `[120, 221, 32]` (it\n",
    "isn't!). Try reshaping the pixel data with a few of the `[I, J, 32]`\n",
    "candidates to see which one is likely to be right. \n",
    "\n",
    "In the call below, you are plotting a slice over the third dimension to see\n",
    "how it looks."
   ]
  },
  {
   "cell_type": "code",
   "execution_count": null,
   "id": "3444e3e0",
   "metadata": {},
   "outputs": [],
   "source": [
    "# Try reshaping using some candidate pairs.\n",
    "# Change the first two values of the shape below.\n",
    "full_shape = [120, 221, 32]\n",
    "# The rest of cell, you may want to leave as is.\n",
    "to_try = np.reshape(pixel_array, full_shape)\n",
    "# Plot a middle slice in the third dimension\n",
    "plt.imshow(to_try[:, :, 15])"
   ]
  },
  {
   "cell_type": "code",
   "execution_count": null,
   "id": "849e8e88",
   "metadata": {},
   "outputs": [],
   "source": [
    "# Show the final shape that you are happy with.\n",
    "full_shape"
   ]
  },
  {
   "cell_type": "code",
   "execution_count": null,
   "id": "82bbdb72",
   "metadata": {},
   "outputs": [],
   "source": [
    "assert list(full_shape) == notetest.get_full_shape()"
   ]
  },
  {
   "cell_type": "markdown",
   "id": "ab7bd091",
   "metadata": {},
   "source": [
    "## Done.\n",
    "\n",
    "Congratulations, you're done with the assignment!\n",
    "\n",
    "- **run all the tests** by choosing Restart and Run all from the Kernel menu.\n",
    "- **Save and Checkpoint** from the `File` menu, to save your work, in case you\n",
    "  want to come back to it later."
   ]
  }
 ],
 "metadata": {
  "jupytext": {
   "notebook_metadata_filter": "all,-language_info",
   "split_at_heading": true,
   "text_representation": {
    "extension": ".Rmd",
    "format_name": "rmarkdown",
    "format_version": "1.2",
    "jupytext_version": "1.13.7"
   }
  },
  "kernelspec": {
   "display_name": "Python 3",
   "language": "python",
   "name": "python3"
  }
 },
 "nbformat": 4,
 "nbformat_minor": 5
}
